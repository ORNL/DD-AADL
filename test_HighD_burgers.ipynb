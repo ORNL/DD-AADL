{
  "nbformat": 4,
  "nbformat_minor": 0,
  "metadata": {
    "accelerator": "GPU",
    "colab": {
      "name": "test_HighD_burgers.ipynb",
      "provenance": [],
      "collapsed_sections": []
    },
    "kernelspec": {
      "display_name": "Python 3",
      "name": "python3"
    },
    "language_info": {
      "name": "python"
    }
  },
  "cells": [
    {
      "cell_type": "code",
      "metadata": {
        "colab": {
          "base_uri": "https://localhost:8080/"
        },
        "id": "mHbA43ceuJXS",
        "outputId": "0e76a561-88e3-466f-829a-a8be7a3c4ccc"
      },
      "source": [
        "!unzip /content/DataDrivenAcceleration-XJ.zip -d /content/DataDrivenAcceleration-XJ\n",
        "%cd /content/DataDrivenAcceleration-XJ"
      ],
      "execution_count": null,
      "outputs": [
        {
          "output_type": "stream",
          "text": [
            "Archive:  /content/DataDrivenAcceleration-XJ.zip\n",
            "  inflating: /content/DataDrivenAcceleration-XJ/.gitignore  \n",
            "   creating: /content/DataDrivenAcceleration-XJ/.idea/\n",
            "  inflating: /content/DataDrivenAcceleration-XJ/.idea/.gitignore  \n",
            "  inflating: /content/DataDrivenAcceleration-XJ/.idea/DataDrivenAcceleration.iml  \n",
            "   creating: /content/DataDrivenAcceleration-XJ/.idea/inspectionProfiles/\n",
            "  inflating: /content/DataDrivenAcceleration-XJ/.idea/inspectionProfiles/profiles_settings.xml  \n",
            "  inflating: /content/DataDrivenAcceleration-XJ/.idea/misc.xml  \n",
            "  inflating: /content/DataDrivenAcceleration-XJ/.idea/modules.xml  \n",
            "  inflating: /content/DataDrivenAcceleration-XJ/.idea/vcs.xml  \n",
            "   creating: /content/DataDrivenAcceleration-XJ/AADL/\n",
            "  inflating: /content/DataDrivenAcceleration-XJ/AADL/__init__.py  \n",
            "  inflating: /content/DataDrivenAcceleration-XJ/AADL/accelerate.py  \n",
            "  inflating: /content/DataDrivenAcceleration-XJ/AADL/anderson_acceleration.py  \n",
            "   creating: /content/DataDrivenAcceleration-XJ/Data/\n",
            "  inflating: /content/DataDrivenAcceleration-XJ/Data/burgers_Readme.txt  \n",
            "  inflating: /content/DataDrivenAcceleration-XJ/Data/burgers_shock.mat  \n",
            "  inflating: /content/DataDrivenAcceleration-XJ/Data/burgers_shock_IC_sin2pi.mat  \n",
            "  inflating: /content/DataDrivenAcceleration-XJ/Data/burgers_shock_mu_005_pi.mat  \n",
            "  inflating: /content/DataDrivenAcceleration-XJ/Data/burgers_shock_mu_01_pi.mat  \n",
            "  inflating: /content/DataDrivenAcceleration-XJ/Data/Chebfun_Burgers_PDE.m  \n",
            "  inflating: /content/DataDrivenAcceleration-XJ/Data/graduate_admission.csv  \n",
            "  inflating: /content/DataDrivenAcceleration-XJ/LICENSE  \n",
            "  inflating: /content/DataDrivenAcceleration-XJ/README.md  \n",
            "   creating: /content/DataDrivenAcceleration-XJ/src/\n",
            "  inflating: /content/DataDrivenAcceleration-XJ/src/anderson_acceleration.py  \n",
            "  inflating: /content/DataDrivenAcceleration-XJ/src/anderson_acceleration_orig.py  \n",
            "  inflating: /content/DataDrivenAcceleration-XJ/src/NN_models.py  \n",
            "  inflating: /content/DataDrivenAcceleration-XJ/src/Phi.py  \n",
            "  inflating: /content/DataDrivenAcceleration-XJ/src/pinns_burgers_model.py  \n",
            "  inflating: /content/DataDrivenAcceleration-XJ/src/pinns_helmholtz_model.py  \n",
            "  inflating: /content/DataDrivenAcceleration-XJ/src/plotter.py  \n",
            "  inflating: /content/DataDrivenAcceleration-XJ/src/utils.py  \n",
            "  inflating: /content/DataDrivenAcceleration-XJ/train_pinns_burgers.py  \n",
            "  inflating: /content/DataDrivenAcceleration-XJ/train_pinns_holmholtz.py  \n",
            "  inflating: /content/DataDrivenAcceleration-XJ/train_polynomial_regression.py  \n",
            "/content/DataDrivenAcceleration-XJ\n"
          ],
          "name": "stdout"
        }
      ]
    },
    {
      "cell_type": "code",
      "metadata": {
        "id": "ZA_7654rzvm3"
      },
      "source": [
        "import time\n",
        "import torch\n",
        "import torch.autograd as autograd         # computation graph\n",
        "import torch.nn as nn \n",
        "\n",
        "from src.NN_models import *\n",
        "from src.anderson_acceleration import *\n",
        "from src.Phi import *\n",
        "from src.utils import count_parameters\n",
        "\n",
        "import AADL as AADL"
      ],
      "execution_count": null,
      "outputs": []
    },
    {
      "cell_type": "markdown",
      "metadata": {
        "id": "EnjMEeYJzzku"
      },
      "source": [
        "## Problem Setup\n",
        "\n",
        "Consider Burgers Equation\n",
        "\n",
        "$$ u_t + u \\cdot \\nabla u - \\Delta u = f         $$\n",
        "\n",
        "\n",
        "Suppose we define $u$ as a function  composite of polynomials and expenential fucntions, i.e.\n",
        "\n",
        "$$ u = e^{-t} (x_1 -1)(x_1 +1) \\dots (x_n -1)(x_n + 1)$$"
      ]
    },
    {
      "cell_type": "code",
      "metadata": {
        "id": "iv1xMVB8oW46"
      },
      "source": [
        "def data_gen(x):\n",
        "    # solution to burgers equation\n",
        "    d = x.shape[1]\n",
        "    xx = x[:,:d-1]\n",
        "    xx = (xx-1) * (xx+1)\n",
        "    sol = torch.prod(xx, dim=1).view(-1,1)\n",
        "    sol = sol * torch.exp(-x[:,-1].view(-1,1))\n",
        "\n",
        "    return sol\n",
        "\n",
        "def forcing(x):\n",
        "    # forcing term for the burgers equation\n",
        "    d = x.shape[1]\n",
        "    u = data_gen(x)\n",
        "    ut = -u\n",
        "    f = ut\n",
        "\n",
        "    for i in range(d-1):\n",
        "        ux_i = u / ((x[:,i]-1)*(x[:,i]+1)).view(-1,1)\n",
        "        ux_i = 2*x[:,i].view(-1,1) * ux_i\n",
        "        f = f + u * ux_i\n",
        "    # laplacian \n",
        "    for i in range(d-1):\n",
        "        uxx_i = 2 * u / ((x[:,i]-1)*(x[:,i]+1)).view(-1,1)\n",
        "        f = f - uxx_i\n",
        "\n",
        "    return f\n"
      ],
      "execution_count": null,
      "outputs": []
    },
    {
      "cell_type": "code",
      "metadata": {
        "id": "z5QJJJ3qz1gI"
      },
      "source": [
        "# define a test problem\n",
        "def loss_burgers(x, y, x_to_train_f, d, net):\n",
        "    '''\n",
        "    :param x: input for boundary condition\n",
        "    :param y: boundary data\n",
        "    :param x_to_train_f: input for calculating PDE loss\n",
        "    :param d: number of dimension\n",
        "    :param net: network\n",
        "    :return:  loss\n",
        "    '''\n",
        "\n",
        "    ### u_t + u*u_x1 + u^2*u_x2 + ... + u^d*u_xd = 0 with boundary and initial condition\n",
        "    loss_fun = nn.MSELoss() \n",
        "    loss_BC = loss_fun(net.forward(x), y)\n",
        "\n",
        "    g = x_to_train_f.clone()\n",
        "    g.requires_grad = True\n",
        "    \n",
        "    u = net.forward(g)\n",
        "    # gradient\n",
        "    u_x_t = autograd.grad(u, g, torch.ones([x_to_train_f.shape[0], 1]).to(g.device), retain_graph=True, create_graph=True)[0]\n",
        "\n",
        "    u_t = u_x_t[:,[-1]]; f = u_t\n",
        "    for i in range(d-1):\n",
        "        # iterate for space states\n",
        "        f = f + u * u_x_t[:, [i]]\n",
        "\n",
        "    # laplacian? depending on the problem\n",
        "    num = x_to_train_f.shape[0]\n",
        "    lap = torch.zeros(num,1).to(g.device)\n",
        "    for i in range(d-1):\n",
        "        vec = torch.zeros_like(u_x_t)\n",
        "        vec[:,i] = torch.ones(num)\n",
        "        u_xx_i = autograd.grad(u_x_t, g, vec, create_graph=True)[0]\n",
        "        u_xxi = u_xx_i[:, [i]]\n",
        "\n",
        "        lap = lap + u_xxi\n",
        "\n",
        "    f = f - lap\n",
        "\n",
        "    ## forcing term\n",
        "    ff = forcing(g)\n",
        "\n",
        "\n",
        "    loss_PDE = loss_fun(f, ff)\n",
        "    loss = loss_BC + loss_PDE\n",
        " \n",
        "\n",
        "    res_PDE = f - ff\n",
        "    res_BC = net.forward(x) - y\n",
        "    res = torch.cat((res_PDE, res_BC), dim=0)\n",
        "    res = torch.flatten(res)\n",
        "\n",
        "\n",
        "    return res, loss\n",
        "\n",
        "\n",
        "\n"
      ],
      "execution_count": null,
      "outputs": []
    },
    {
      "cell_type": "code",
      "metadata": {
        "id": "UqG32gwW5UAA"
      },
      "source": [
        "\n",
        "device = torch.device('cuda' if torch.cuda.is_available() else 'cpu')\n",
        "print('device: ', device)\n",
        "\n",
        "# parameter list\n",
        "niters = 2000\n",
        "N_u = 400\n",
        "N_f = 4000\n",
        "lr = 0.02\n",
        "print_freq = 100\n",
        "\n",
        "d = 100\n",
        "# net = Phi(nTh=4,d=d,m=32)\n",
        "layers = np.array([d, 50, 50, 50, 1])\n",
        "net = MLP(layers)\n",
        "net.to(device)\n",
        "\n",
        "optim = torch.optim.Adam(params=net.parameters(), lr=lr)\n",
        "accelerate(optim, frequency = 10)\n",
        "\n",
        "# data\n",
        "x = 0.5 * torch.rand(N_u, d).to(device)\n",
        "y = data_gen(x); y = y.to(device)\n",
        "x_to_train_f = 0.5 * torch.rand(N_f, d).to(device)\n",
        "\n",
        "# evaluation\n",
        "x_val = 0.5 * torch.rand(N_u, d).to(device)\n",
        "y_val = data_gen(x_val); y_val = y_val.to(device)\n",
        "print('initial validation error: ', torch.mean(torch.abs(y_val - net(x_val))))\n",
        "\n",
        "for itr in range(1, niters + 1):\n",
        "    def closure():\n",
        "        optim.zero_grad()\n",
        "        res, loss = loss_burgers(x, y, x_to_train_f, d, net)\n",
        "        loss.backward()\n",
        "        return res, loss\n",
        "    optim.step(closure)\n",
        "\n",
        "\n",
        "    if itr % print_freq == 0:\n",
        "        _, loss = closure() \n",
        "        print((\"%06d    \" + \"%1.4e    \") %(itr, loss))\n",
        "\n",
        "    # resample\n",
        "    if itr % 500 == 0:\n",
        "        x = 0.5 * torch.rand(N_u, d).to(device)\n",
        "        y = data_gen(x); y = y.to(device)\n",
        "        x_to_train_f = 0.5 * torch.rand(N_f, d).to(device)\n",
        "        clear_hist(optim)\n",
        "\n",
        "    # change learning rate\n",
        "    if itr % 1000 == 0:\n",
        "        for p in optim.param_groups:\n",
        "            p['lr'] *= 0.2\n",
        "\n",
        "\n",
        "print('final validation error: ', torch.mean(torch.abs(y_val - net(x_val))))"
      ],
      "execution_count": null,
      "outputs": []
    },
    {
      "cell_type": "markdown",
      "metadata": {
        "id": "ky0zTG1VWIQ8"
      },
      "source": [
        "## Averaging"
      ]
    },
    {
      "cell_type": "code",
      "metadata": {
        "colab": {
          "base_uri": "https://localhost:8080/"
        },
        "id": "6t4JDWnHWH1q",
        "outputId": "45066ba3-7eee-4f61-d9e2-6bf7a704b9a0"
      },
      "source": [
        "device = torch.device('cuda' if torch.cuda.is_available() else 'cpu')\n",
        "print('device: ', device)\n",
        "\n",
        "# parameter list\n",
        "N_u = 400\n",
        "N_f = 4000\n",
        "niters = 3000\n",
        "lr = 0.02\n",
        "print_freq = 100\n",
        "\n",
        "\n",
        "d = 100\n",
        "\n",
        "start_time = time.time() \n",
        "print((2 * \"%7s    \") % (\"step\", \"Loss\"))\n",
        "err_average = 0.\n",
        "\n",
        "record = np.zeros([niters+1, 1])\n",
        "for repeat in range(1):\n",
        "    x = torch.cat((0.5*torch.randn(N_u, d-1), torch.rand(N_u, 1)), dim=1).to(device)   \n",
        "    y = data_gen(x); y = y.to(device)\n",
        "    x_to_train_f = torch.cat((0.5*torch.randn(N_f, d-1), torch.rand(N_f, 1)), dim=1).to(device)  \n",
        "\n",
        "    x_val = torch.cat((0.5*torch.randn(500, d-1), torch.rand(500, 1)), dim=1).to(device)   \n",
        "    y_val = data_gen(x_val); y_Val = y_val.to(device)\n",
        "\n",
        "    layers = np.array([d, 50, 50, 50, 1])\n",
        "    net = MLP(layers)\n",
        "    net.to(device)\n",
        "    optim = torch.optim.Adam(net.parameters(), lr=lr)\n",
        "    # accelerate(optim, frequency = 20)\n",
        "    AADL.accelerate(optim, relaxation=1.0, store_each_nth=10, frequency=20)\n",
        "    record[0,repeat] = loss_burgers(x, y, x_to_train_f, d, net)[1].detach()\n",
        "\n",
        "    for itr in range(1, niters + 1):\n",
        "        def closure():\n",
        "            optim.zero_grad()\n",
        "            res, loss = loss_burgers(x, y, x_to_train_f, d, net)\n",
        "            loss.backward()\n",
        "            return loss\n",
        "        optim.step(closure)\n",
        "        loss = loss_burgers(x, y, x_to_train_f, d, net)[1]\n",
        "        record[itr, repeat] = loss.detach()\n",
        "\n",
        "        if itr % print_freq == 0:\n",
        "            print((\"%06d    \" + \"%1.4e    \") %(itr, loss))\n",
        "\n",
        "        # resample\n",
        "        if itr % 500 == 0:\n",
        "            x = torch.cat((0.5*torch.randn(N_u, d-1), torch.rand(N_u, 1)), dim=1).to(device)   \n",
        "            y = data_gen(x); y = y.to(device)\n",
        "            x_to_train_f = torch.cat((0.5*torch.randn(N_f, d-1), torch.rand(N_f, 1)), dim=1).to(device)   \n",
        "            # clear_hist(optim)\n",
        "\n",
        "        # change learning rate\n",
        "        if itr % 2000 == 0:\n",
        "            for p in optim.param_groups:\n",
        "                p['lr'] *= 0.2\n",
        "\n",
        "    # Validation\n",
        "    err = torch.mean(torch.abs(y_val - net(x_val)))\n",
        "    err_average += err\n",
        "    print('Validation results, error in absolute value: ', err)\n",
        "\n",
        "print('average validation error: ', err_average/1)\n",
        "elapsed = time.time() - start_time\n",
        "print('Training time: %.2f' % (elapsed))"
      ],
      "execution_count": null,
      "outputs": [
        {
          "output_type": "stream",
          "text": [
            "device:  cuda\n",
            "   step       Loss    \n",
            "000100    3.4704e-02    \n",
            "000200    1.1745e-02    \n",
            "000300    6.3146e-03    \n",
            "000400    4.0520e-03    \n",
            "000500    2.8511e-03    \n",
            "000600    3.1222e-03    \n",
            "000700    2.0081e-03    \n",
            "000800    1.4481e-03    \n",
            "000900    1.1094e-03    \n",
            "001000    8.8358e-04    \n",
            "001100    9.9002e-04    \n",
            "001200    7.4105e-04    \n",
            "001300    5.8648e-04    \n",
            "001400    4.7994e-04    \n",
            "001500    4.0194e-04    \n",
            "001600    4.6985e-04    \n",
            "001700    3.7589e-04    \n",
            "001800    3.1247e-04    \n",
            "001900    2.6593e-04    \n",
            "002000    2.3006e-04    \n",
            "002100    3.1823e-04    \n",
            "002200    3.0035e-04    \n",
            "002300    2.8485e-04    \n",
            "002400    2.7079e-04    \n",
            "002500    2.5778e-04    \n",
            "002600    2.8380e-04    \n",
            "002700    2.6661e-04    \n",
            "002800    2.5168e-04    \n",
            "002900    2.3812e-04    \n",
            "003000    2.2559e-04    \n",
            "Validation results, error in absolute value:  tensor(0.0018, device='cuda:0', grad_fn=<MeanBackward0>)\n",
            "average validation error:  tensor(0.0018, device='cuda:0', grad_fn=<DivBackward0>)\n",
            "Training time: 1800.21\n"
          ],
          "name": "stdout"
        }
      ]
    },
    {
      "cell_type": "code",
      "metadata": {
        "id": "9Ag2tpo84i4-"
      },
      "source": [
        "record0 = record"
      ],
      "execution_count": null,
      "outputs": []
    },
    {
      "cell_type": "code",
      "metadata": {
        "id": "kcC4KWh1a7S3"
      },
      "source": [
        "record_accelerated = record"
      ],
      "execution_count": null,
      "outputs": []
    },
    {
      "cell_type": "code",
      "metadata": {
        "id": "BH1kxhkGyycp"
      },
      "source": [
        "record_AADL = record"
      ],
      "execution_count": null,
      "outputs": []
    },
    {
      "cell_type": "code",
      "metadata": {
        "colab": {
          "base_uri": "https://localhost:8080/",
          "height": 295
        },
        "id": "sSgR48JBa8tu",
        "outputId": "1a2375fd-24e0-4aae-f4f3-2d44c9f276f2"
      },
      "source": [
        "import matplotlib.pyplot as plt\n",
        "\n",
        "anderson_avg = np.mean(record_accelerated,axis=1)\n",
        "anderson_std = np.std(record_accelerated,axis=1)\n",
        "avg = np.mean(record0,axis=1)\n",
        "std = np.std(record0,axis=1)\n",
        "\n",
        "fig = plt.figure()\n",
        "plt.plot(range(niters+1),avg, color='b', linewidth=2)\n",
        "# plt.fill_between(range(niters+1), avg-std,avg+std,color='b',alpha=.2)\n",
        "plt.plot(range(niters+1),anderson_avg, color='r', linewidth=2)\n",
        "# plt.fill_between(range(niters+1), anderson_avg-anderson_std,anderson_avg+anderson_std,color='r',alpha=.2)\n",
        "\n",
        "avg_AADL = np.mean(record_AADL,axis=1)\n",
        "plt.plot(range(niters+1),avg_AADL, color='g', linewidth=2)\n",
        "\n",
        "\n",
        "plt.yscale('log')\n",
        "plt.ylim([1.e-5, 3.e2])\n",
        "plt.legend(['default', 'data driven Anderson acceleration', 'AADL'])\n",
        "plt.xlabel('number of iteration')\n",
        "plt.ylabel('loss function value')\n",
        "plt.title('100D Burgers equation')\n",
        "fig.savefig('file.jpg', dpi=500)"
      ],
      "execution_count": null,
      "outputs": [
        {
          "output_type": "display_data",
          "data": {
            "image/png": "[encoded data removed]",
            "text/plain": [
              "<Figure size 432x288 with 1 Axes>"
            ]
          },
          "metadata": {
            "tags": [],
            "needs_background": "light"
          }
        }
      ]
    },
    {
      "cell_type": "code",
      "metadata": {
        "colab": {
          "base_uri": "https://localhost:8080/",
          "height": 17
        },
        "id": "SJ8Cu_nYfAnL",
        "outputId": "5c88d977-e848-49c0-de1f-527a57bce914"
      },
      "source": [
        "from google.colab import files\n",
        "files.download('file.jpg') "
      ],
      "execution_count": null,
      "outputs": [
        {
          "output_type": "display_data",
          "data": {
            "application/javascript": [
              "\n",
              "    async function download(id, filename, size) {\n",
              "      if (!google.colab.kernel.accessAllowed) {\n",
              "        return;\n",
              "      }\n",
              "      const div = document.createElement('div');\n",
              "      const label = document.createElement('label');\n",
              "      label.textContent = `Downloading \"${filename}\": `;\n",
              "      div.appendChild(label);\n",
              "      const progress = document.createElement('progress');\n",
              "      progress.max = size;\n",
              "      div.appendChild(progress);\n",
              "      document.body.appendChild(div);\n",
              "\n",
              "      const buffers = [];\n",
              "      let downloaded = 0;\n",
              "\n",
              "      const channel = await google.colab.kernel.comms.open(id);\n",
              "      // Send a message to notify the kernel that we're ready.\n",
              "      channel.send({})\n",
              "\n",
              "      for await (const message of channel.messages) {\n",
              "        // Send a message to notify the kernel that we're ready.\n",
              "        channel.send({})\n",
              "        if (message.buffers) {\n",
              "          for (const buffer of message.buffers) {\n",
              "            buffers.push(buffer);\n",
              "            downloaded += buffer.byteLength;\n",
              "            progress.value = downloaded;\n",
              "          }\n",
              "        }\n",
              "      }\n",
              "      const blob = new Blob(buffers, {type: 'application/binary'});\n",
              "      const a = document.createElement('a');\n",
              "      a.href = window.URL.createObjectURL(blob);\n",
              "      a.download = filename;\n",
              "      div.appendChild(a);\n",
              "      a.click();\n",
              "      div.remove();\n",
              "    }\n",
              "  "
            ],
            "text/plain": [
              "<IPython.core.display.Javascript object>"
            ]
          },
          "metadata": {
            "tags": []
          }
        },
        {
          "output_type": "display_data",
          "data": {
            "application/javascript": [
              "download(\"download_b5d2414f-922d-42b6-80a9-f6d9eddfa1eb\", \"file.jpg\", 263878)"
            ],
            "text/plain": [
              "<IPython.core.display.Javascript object>"
            ]
          },
          "metadata": {
            "tags": []
          }
        }
      ]
    }
  ]
}